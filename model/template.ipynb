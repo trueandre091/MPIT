{
 "cells": [
  {
   "cell_type": "markdown",
   "metadata": {},
   "source": [
    "# **Файл для базовых методов и функций**"
   ]
  },
  {
   "cell_type": "markdown",
   "metadata": {},
   "source": [
    "**Установка зависимостей**\n"
   ]
  },
  {
   "cell_type": "code",
   "execution_count": null,
   "metadata": {},
   "outputs": [],
   "source": [
    "!python -m pip install --upgrade pip\n"
   ]
  },
  {
   "cell_type": "code",
   "execution_count": null,
   "metadata": {},
   "outputs": [],
   "source": [
    "!pip3 install -r ./../requirements.txt\n",
    "!pip3 install spacy nbformat"
   ]
  },
  {
   "cell_type": "code",
   "execution_count": null,
   "metadata": {},
   "outputs": [],
   "source": [
    "import pandas as pd\n",
    "import kagglehub\n",
    "import torch\n",
    "\n",
    "# Метрики\n",
    "from sklearn.metrics import accuracy_score, precision_recall_fscore_support, confusion_matrix\n",
    "import numpy as np\n",
    "import seaborn as sns\n",
    "import matplotlib.pyplot as plt\n",
    "\n",
    "def compute_metrics(pred):\n",
    "    predictions = pred.predictions.argmax(-1)  # Максимальный индекс (класс)\n",
    "    labels = pred.label_ids\n",
    "    \n",
    "    accuracy = accuracy_score(labels, predictions)\n",
    "    precision, recall, f1, _ = precision_recall_fscore_support(labels, predictions, average='weighted')\n",
    "    \n",
    "    # Построение confusion matrix\n",
    "    cm = confusion_matrix(labels, predictions)\n",
    "    \n",
    "    save_confusion_matrix(cm, dataset.classes)\n",
    "    \n",
    "    return {\n",
    "        'accuracy': accuracy,\n",
    "        'precision': precision,\n",
    "        'recall': recall,\n",
    "        'f1': f1\n",
    "    }\n",
    "\n",
    "\n",
    "def save_confusion_matrix(cm, class_names, filename=\"confusion_matrix.png\"):\n",
    "    plt.figure(figsize=(10, 8))\n",
    "    sns.heatmap(cm, annot=True, fmt=\"d\", cmap=\"Blues\", xticklabels=class_names, yticklabels=class_names)\n",
    "    plt.ylabel('Actual')\n",
    "    plt.xlabel('Predicted')\n",
    "    plt.title('Confusion Matrix')\n",
    "    plt.savefig(filename)\n",
    "    plt.close()\n"
   ]
  },
  {
   "cell_type": "markdown",
   "metadata": {},
   "source": [
    "**Загружаем конфиг**"
   ]
  },
  {
   "cell_type": "code",
   "execution_count": 3,
   "metadata": {},
   "outputs": [],
   "source": [
    "import yaml\n",
    "\n",
    "CONFIG_PATH = './../config.yaml'\n",
    "\n",
    "with open(CONFIG_PATH, 'r') as f:\n",
    "    config = yaml.safe_load(f)\n"
   ]
  },
  {
   "cell_type": "markdown",
   "metadata": {},
   "source": [
    "**Другие функции**"
   ]
  },
  {
   "cell_type": "code",
   "execution_count": 4,
   "metadata": {},
   "outputs": [],
   "source": [
    "import logging\n",
    "\n",
    "def are_almost_equal(a: float, b: float, tolerance: float = 0.001) -> bool:\n",
    "    return abs(a - b) < max(abs(a), abs(b)) * tolerance\n",
    "\n",
    "def setup_logging():\n",
    "    logging.config.dictConfig(\n",
    "        {\n",
    "            'version': 1,\n",
    "            'disable_existing_loggers': False,\n",
    "            'formatters': {\n",
    "                'standard': {'format': '%(asctime)s [%(levelname)s] %(name)s: %(message)s', 'datefmt': '%Y-%m-%d %H:%M:%S'}\n",
    "            }\n",
    "        }\n",
    "    )\n",
    "\n",
    "\n",
    "def get_logger(name: str) -> logging.Logger:\n",
    "    return logging.getLogger(name)\n",
    "\n",
    "setup_logging()\n",
    "logger = get_logger(__name__)\n",
    "\n",
    "logger.info(\"template.ipynb запущен\")\n"
   ]
  },
  {
   "cell_type": "code",
   "execution_count": null,
   "metadata": {},
   "outputs": [],
   "source": [
    "import shutil\n",
    "import os\n",
    "\n",
    "\n",
    "def move_data(path, data_path):\n",
    "    \"\"\"\n",
    "    Рекурсивно копирует все файлы и подпапки из исходной директории в целевую.\n",
    "    \n",
    "    Args:\n",
    "        path (str): Путь к исходной директории\n",
    "        data_path (str): Путь к целевой директории\n",
    "    \"\"\"\n",
    "    # Создаем директорию, если её нет\n",
    "    os.makedirs(data_path, exist_ok=True)\n",
    "\n",
    "    # Рекурсивно обходим все файлы и папки\n",
    "    for item in os.listdir(path):\n",
    "        src = os.path.join(path, item)\n",
    "        dst = os.path.join(data_path, item)\n",
    "\n",
    "        if os.path.isfile(src):\n",
    "            # Если это файл - копируем его\n",
    "            shutil.copy2(src, dst)\n",
    "            logger.info(f\"Скопирован файл: {item}\")\n",
    "        elif os.path.isdir(src):\n",
    "            # Если это папка - рекурсивно копируем её содержимое\n",
    "            shutil.copytree(src, dst, dirs_exist_ok=True)\n",
    "            logger.info(f\"Скопирована директория: {item}\")\n",
    "\n",
    "    logger.info(f\"Все данные перемещены из {path} в {data_path}\")"
   ]
  }
 ],
 "metadata": {
  "kernelspec": {
   "display_name": "Python 3",
   "language": "python",
   "name": "python3"
  },
  "language_info": {
   "codemirror_mode": {
    "name": "ipython",
    "version": 3
   },
   "file_extension": ".py",
   "mimetype": "text/x-python",
   "name": "python",
   "nbconvert_exporter": "python",
   "pygments_lexer": "ipython3",
   "version": "3.11.8"
  }
 },
 "nbformat": 4,
 "nbformat_minor": 2
}
